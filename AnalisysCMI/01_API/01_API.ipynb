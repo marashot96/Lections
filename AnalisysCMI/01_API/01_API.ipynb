{
 "cells": [
  {
   "cell_type": "markdown",
   "id": "e24c0deb",
   "metadata": {},
   "source": [
    "# <div align = 'center'> Работа с API и загрузка данных из внешних источников. </div>\n",
    "\n",
    "<div align='center'> <b><big> Преподаватель: Маргарян Ашот Араратович </big> </b> </div>\n",
    "\n",
    "\n",
    "<div align='center'> <i> 08 сентября 2025 г. </i> </div>"
   ]
  },
  {
   "cell_type": "markdown",
   "id": "1ce65b25",
   "metadata": {},
   "source": [
    "## Материалы занятия\n",
    "\n",
    "Материалы этого занятия доступны по следующему QR-коду\n",
    "\n",
    "<a href=\"http://qrcoder.ru\" target=\"_blank\"><img src=\"http://qrcoder.ru/code/?https%3A%2F%2Fgithub.com%2Fmarashot96%2FLections%2Fblob%2Fmain%2FD%26D%2FNavigator.md%23-%EE%F1%ED%EE%E2%ED%FB%E5-%F0%E0%F1%EF%F0%E5%E4%E5%EB%E5%ED%E8%FF-%F1%EB%F3%F7%E0%E9%ED%FB%F5-%E2%E5%EB%E8%F7%E8%ED-&6&0\" width=\"342\" height=\"342\" border=\"0\" title=\"QR код\"></a>\n",
    "\n",
    "---"
   ]
  },
  {
   "cell_type": "markdown",
   "id": "86f38fda",
   "metadata": {},
   "source": [
    "## План занятия\n",
    "\n",
    "- Познакомиться с `API` и методами запросов `Get` и `Post`.\n",
    "- Разбор простых запросов без ключа доступа\n",
    "- Сохранение данных в виде локальных файлов \n",
    "- Самостоятельная работа с простыми запросами\n",
    "- Разбор сложных запросов с изучением документации и входных ключей\n",
    "- Самостоятельные сложные запросы\n",
    "---"
   ]
  },
  {
   "cell_type": "markdown",
   "id": "8f24482c",
   "metadata": {},
   "source": [
    "## Что такое API и зачем оно нужно?\n",
    "\n",
    "\n",
    "**Application Programming Interface** - это интерфейс взаимодействия между программами. Нам он необходим для сбора информации из различных источников.\n",
    "    \n",
    "## Ключевые понятия\n",
    "- **REST API** - наиболее распространённый тип API, основанный на передаче данных по протоколу HTTP.\n",
    "- **Endpoint** - конечная точка (URL), по которому выполняется запрос.\n",
    "- **Методы запросов**:  \n",
    "  - GET - получить данные.  \n",
    "  - POST - отправить данные.\n",
    "- **Форматы данных**: JSON, CSV, XML.\n",
    "- **JSON (JavaScript Object Notation)** - основной формат, удобный для передачи структурированных данных.\n",
    "\n",
    "## Зачем это нужно аналитикам?\n",
    "- Автоматическая загрузка свежих данных (погода, курсы валют, статистика).\n",
    "- Доступ к большим и регулярно обновляемым источникам.\n",
    "- Возможность интеграции данных из разных сервисов.\n"
   ]
  },
  {
   "cell_type": "markdown",
   "id": "d206315d",
   "metadata": {},
   "source": [
    "## Извлечение данных с ресурса open-meteo.com\n",
    "\n",
    "Данные на ресурсе open-meteo.com хранятся в отрытом доступе без дополнительной активации по api-ключу. Для полуения  информации достаточно указать следующие параметры: ширину и долготу той точки, в которой хотим взять данные о погоде (в формате `float`), начальное и конечное значение периода, которые нам необходимы (в формате `yyyy-mm-dd`), перечислить согласно следующей таблице те параметры, которые нам нужны:\n",
    "\n",
    "| Параметр                       | Описание                                                   |\n",
    "|--------------------------------|------------------------------------------------------------|\n",
    "| `weathercode`                  | Код погодных условий                                       |\n",
    "| `temperature_2m_max`           | Максимальная температура на высоте 2 м                     |\n",
    "| `temperature_2m_min`           | Минимальная температура на высоте 2 м                      |\n",
    "| `apparent_temperature_max`     | Максимальная «ощущаемая» температура                       |\n",
    "| `apparent_temperature_min`     | Минимальная «ощущаемая» температура                        |\n",
    "| `sunrise`                      | Время восхода солнца                                       |\n",
    "| `sunset`                       | Время захода солнца                                        |\n",
    "| `daylength`                    | Продолжительность светового дня                            |\n",
    "| `shortwave_radiation_sum`      | Суммарная коротковолновая радиация                         |\n",
    "| `uv_index_max`                 | Максимальный индекс УФ-излучения                           |\n",
    "| `uv_index_clear_sky_max`       | Индекс УФ-излучения при чистом небе                        |\n",
    "| `rain_sum`                     | Сумма осадков (дождь)                                      |\n",
    "| `showers_sum`                  | Сумма осадков (ливни)                                      |\n",
    "| `snowfall_sum`                 | Сумма осадков (снег)                                       |\n",
    "| `precipitation_sum`            | Суммарные осадки                                           |\n",
    "| `precipitation_hours`          | Количество часов с осадками                                |\n",
    "| `precipitation_probability_max`| Максимальная вероятность осадков                           |\n",
    "| `windspeed_10m_max`            | Максимальная скорость ветра на высоте 10 м                 |\n",
    "| `windgusts_10m_max`            | Максимальные порывы ветра на высоте 10 м                   |\n",
    "| `winddirection_10m_dominant`   | Доминирующее направление ветра на высоте 10 м              |\n",
    "| `et0_fao_evapotranspiration`   | Эталонная испаряемость по FAO                              |\n",
    "\n",
    "Дополнительные параметры\n",
    "\n",
    "| Параметр                         | Описание                                                 |\n",
    "|----------------------------------|----------------------------------------------------------|\n",
    "| `temperature_2m_mean`            | Среднесуточная температура на высоте 2 м                 |\n",
    "| `apparent_temperature_mean`      | Средняя «ощущаемая» температура                          |\n",
    "| `mean_cape`, `max_cape`, `min_cape` | Индекс нестабильности атмосферы (CAPE)                 |\n",
    "| `cloudcover_mean` / `max` / `min`| Облачность (средняя, максимальная, минимальная)          |\n",
    "| `dewpoint_2m_mean` / `max` / `min` | Температура точки росы (средняя, макс., мин.)          |\n",
    "| `reference_evapotranspiration_sum` | Суммарная испаряемость                                  |\n",
    "| `growing_degree_days_0_50`       | Эффективные температурные дни (база 0–50 °C)             |\n",
    "| `leaf_wetness_mean`              | Вероятность увлажнения листьев                           |\n",
    "| `precipitation_probability_mean` / `min` | Средняя/минимальная вероятность осадков          |\n",
    "| `relative_humidity_2m_mean` / `max` / `min` | Относительная влажность (средняя, макс., мин.) |\n",
    "| `snowfall_water_equivalent_sum`  | Эквивалент воды в снегопаде                              |\n",
    "| `pressure_msl_mean` / `max` / `min` | Давление на уровне моря                                |\n",
    "| `surface_pressure_mean` / `max` / `min` | Поверхностное давление                               |\n",
    "| `updraft_max`                    | Восходящие потоки (максимальные)                         |\n",
    "| `visibility_mean` / `min` / `max`| Видимость (средняя, минимальная, максимальная)           |\n",
    "| `windgusts_10m_mean` / `min`     | Средние/минимальные порывы ветра на высоте 10 м          |\n",
    "| `windspeed_10m_mean` / `min`     | Средняя/минимальная скорость ветра на высоте 10 м        |\n",
    "| `wet_bulb_temperature_2m_mean` / `max` / `min` | Влажная термометрическая температура             |\n",
    "| `vapour_pressure_deficit_max`    | Максимальный дефицит парциального давления               |\n",
    "\n",
    "\n",
    "**Пример:**\n",
    "```python\n",
    "latitude = 55.75   # Москва\n",
    "longitude = 37.62\n",
    "start_date = \"2025-08-01\"\n",
    "end_date = \"2025-08-26\"\n",
    "params = \"temperature_2m_max,temperature_2m_min,temperature_2m_mean\"\n",
    "```\n",
    "\n",
    "**Далее подгружаем эти данные в строку**\n",
    "```python\n",
    "url = f\"https://api.open-meteo.com/v1/forecast?latitude={latitude}&longitude={longitude}&start_date={start_date}&end_date={end_date}&daily={params}&timezone=Europe/Moscow\"\n",
    "```\n",
    "\n",
    "*Полную документацию api.open-meteo.com можно посмотреть [здесь]().*\n",
    "\n",
    "На данном примере посмотрим, какие данные можно получить с ресурса open-meteo.com и поработаем с ними:"
   ]
  },
  {
   "cell_type": "code",
   "execution_count": 7,
   "id": "1bab684b",
   "metadata": {},
   "outputs": [
    {
     "name": "stdout",
     "output_type": "stream",
     "text": [
      "{'latitude': 55.75, 'longitude': 37.625, 'generationtime_ms': 0.038743019104003906, 'utc_offset_seconds': 10800, 'timezone': 'Europe/Moscow', 'timezone_abbreviation': 'GMT+3', 'elevation': 152.0, 'daily_units': {'time': 'iso8601', 'temperature_2m_max': '°C', 'temperature_2m_min': '°C', 'temperature_2m_mean': '°C'}, 'daily': {'time': ['2025-08-20', '2025-08-21', '2025-08-22', '2025-08-23', '2025-08-24', '2025-08-25', '2025-08-26'], 'temperature_2m_max': [20.6, 17.7, 16.9, 14.9, 19.2, 15.3, 15.6], 'temperature_2m_min': [13.3, 12.7, 8.3, 10.4, 8.3, 9.6, 9.6], 'temperature_2m_mean': [17.2, 14.9, 13.1, 12.8, 13.8, 12.6, 12.2]}} \n",
      "\n",
      "            temperature_2m_max  temperature_2m_min  temperature_2m_mean\n",
      "time                                                                   \n",
      "2025-08-20                20.6                13.3                 17.2\n",
      "2025-08-21                17.7                12.7                 14.9\n",
      "2025-08-22                16.9                 8.3                 13.1\n",
      "2025-08-23                14.9                10.4                 12.8\n",
      "2025-08-24                19.2                 8.3                 13.8\n",
      "2025-08-25                15.3                 9.6                 12.6\n",
      "2025-08-26                15.6                 9.6                 12.2\n",
      "\n",
      "\n",
      "Максимальная температура за период: 20.6\n",
      "Минимальная температура за период: 8.3\n",
      "\n",
      "Расширенные показатели по дням:\n",
      "            temperature_2m_max  temperature_2m_min  temperature_2m_mean  \\\n",
      "time                                                                      \n",
      "2025-08-20                20.6                13.3                 17.2   \n",
      "2025-08-21                17.7                12.7                 14.9   \n",
      "2025-08-22                16.9                 8.3                 13.1   \n",
      "2025-08-23                14.9                10.4                 12.8   \n",
      "2025-08-24                19.2                 8.3                 13.8   \n",
      "2025-08-25                15.3                 9.6                 12.6   \n",
      "2025-08-26                15.6                 9.6                 12.2   \n",
      "\n",
      "            temp_diff  temp_gradient  temp_deviation  \n",
      "time                                                  \n",
      "2025-08-20        7.3            NaN    3.400000e+00  \n",
      "2025-08-21        5.0           -2.3    1.100000e+00  \n",
      "2025-08-22        8.6           -1.8    7.000000e-01  \n",
      "2025-08-23        4.5           -0.3    1.000000e+00  \n",
      "2025-08-24       10.9            1.0    1.776357e-15  \n",
      "2025-08-25        5.7           -1.2    1.200000e+00  \n",
      "2025-08-26        6.0           -0.4    1.600000e+00  \n"
     ]
    },
    {
     "data": {
      "text/plain": [
       "<Figure size 720x432 with 0 Axes>"
      ]
     },
     "metadata": {},
     "output_type": "display_data"
    },
    {
     "data": {
      "image/png": "[encoded data removed]",
      "text/plain": [
       "<Figure size 432x288 with 1 Axes>"
      ]
     },
     "metadata": {
      "needs_background": "light"
     },
     "output_type": "display_data"
    },
    {
     "data": {
      "text/plain": [
       "<Figure size 720x432 with 0 Axes>"
      ]
     },
     "metadata": {},
     "output_type": "display_data"
    },
    {
     "data": {
      "image/png": "[encoded data removed]",
      "text/plain": [
       "<Figure size 432x288 with 1 Axes>"
      ]
     },
     "metadata": {
      "needs_background": "light"
     },
     "output_type": "display_data"
    }
   ],
   "source": [
    "import requests\n",
    "import pandas as pd\n",
    "import matplotlib.pyplot as plt\n",
    "from scipy.stats import t, chi2, ttest_ind, pearsonr, spearmanr\n",
    "\n",
    "# Параметры запроса\n",
    "latitude = 55.75   # Москва\n",
    "longitude = 37.62\n",
    "start_date = \"2025-08-20\"\n",
    "end_date = \"2025-08-26\"\n",
    "params = \"temperature_2m_max,temperature_2m_min,temperature_2m_mean\"\n",
    "url = f\"https://api.open-meteo.com/v1/forecast?latitude={latitude}&longitude={longitude}&start_date={start_date}&end_date={end_date}&daily={params}&timezone=Europe/Moscow\"\n",
    "\n",
    "# Запрос к API\n",
    "response = requests.get(url)\n",
    "data = response.json()\n",
    "print(data, '\\n')\n",
    "\n",
    "# Преобразуем в DataFrame\n",
    "df = pd.DataFrame(data['daily'])\n",
    "df['time'] = pd.to_datetime(df['time'])\n",
    "df.set_index('time', inplace=True)\n",
    "print(df)\n",
    "\n",
    "# Основные показатели\n",
    "mean_temp = df['temperature_2m_mean'].mean()\n",
    "max_temp = df['temperature_2m_max'].max()\n",
    "min_temp = df['temperature_2m_min'].min()\n",
    "\n",
    "print('\\n')\n",
    "print(\"Максимальная температура за период:\", max_temp)\n",
    "print(\"Минимальная температура за период:\", min_temp)\n",
    "\n",
    "# Дополнительные показатели\n",
    "# разница между максимальной и минимальной температуры по дням\n",
    "df['temp_diff'] = df['temperature_2m_max'] - df['temperature_2m_min']\n",
    "# изменение средней температуры по дням\n",
    "df['temp_gradient'] = df['temperature_2m_mean'].diff()\n",
    "# отклонение от средней температуры\n",
    "df['temp_deviation'] = abs(df['temperature_2m_mean'] - mean_temp)\n",
    "\n",
    "print(\"\\nРасширенные показатели по дням:\")\n",
    "print(df[['temperature_2m_max','temperature_2m_min','temperature_2m_mean','temp_diff','temp_gradient','temp_deviation']])\n",
    "\n",
    "# Визуализация\n",
    "plt.figure(figsize=(10,6))\n",
    "df[['temperature_2m_max','temperature_2m_min','temperature_2m_mean']].plot(marker='o')\n",
    "plt.title(\"Температура в Москве\")\n",
    "plt.ylabel(\"Температура (°C)\")\n",
    "plt.xlabel(\"Дата\")\n",
    "plt.grid(True)\n",
    "plt.show()\n",
    "\n",
    "plt.figure(figsize=(10,6))\n",
    "df[['temp_diff','temp_gradient','temp_deviation']].plot(marker='x')\n",
    "plt.title(\"Дополнительные показатели температуры\")\n",
    "plt.ylabel(\"°C\")\n",
    "plt.xlabel(\"Дата\")\n",
    "plt.grid(True)\n",
    "plt.show()"
   ]
  },
  {
   "cell_type": "code",
   "execution_count": 16,
   "id": "ef73b3e8",
   "metadata": {},
   "outputs": [
    {
     "name": "stdout",
     "output_type": "stream",
     "text": [
      "{'bitcoin': {'eur': 92902, 'usd': 108579, 'rub': 8675896, 'gbp': 80399, 'jpy': 15964886, 'chf': 86919, 'aud': 166073, 'cad': 149312}, 'cronos': {'eur': 9.163e-05, 'usd': 0.00010174, 'rub': 0.00670587, 'gbp': 8.386e-05, 'jpy': 0.01083468, 'chf': 9.963e-05, 'aud': 0.00014971, 'cad': 0.00013525}, 'ethereum': {'eur': 3718.44, 'usd': 4345.93, 'rub': 347257, 'gbp': 3218.01, 'jpy': 639003, 'chf': 3478.99, 'aud': 6647.18, 'cad': 5976.3}, 'numeraire': {'eur': 13.42, 'usd': 15.69, 'rub': 1253.41, 'gbp': 11.62, 'jpy': 2306.44, 'chf': 12.56, 'aud': 23.99, 'cad': 21.57}}\n",
      "                    eur            usd           rub           gbp  \\\n",
      "crypto                                                               \n",
      "bitcoin    92902.000000  108579.000000  8.675896e+06  80399.000000   \n",
      "cronos         0.000092       0.000102  6.705870e-03      0.000084   \n",
      "ethereum    3718.440000    4345.930000  3.472570e+05   3218.010000   \n",
      "numeraire     13.420000      15.690000  1.253410e+03     11.620000   \n",
      "\n",
      "                    jpy         chf           aud            cad    EurUsd  \\\n",
      "crypto                                                                       \n",
      "bitcoin    1.596489e+07  86919.0000  166073.00000  149312.000000  0.855617   \n",
      "cronos     1.083468e-02      0.0001       0.00015       0.000135  0.900629   \n",
      "ethereum   6.390030e+05   3478.9900    6647.18000    5976.300000  0.855614   \n",
      "numeraire  2.306440e+03     12.5600      23.99000      21.570000  0.855322   \n",
      "\n",
      "              RubUsd  \n",
      "crypto                \n",
      "bitcoin    79.903996  \n",
      "cronos     65.911834  \n",
      "ethereum   79.903956  \n",
      "numeraire  79.885915  \n"
     ]
    }
   ],
   "source": [
    "import requests\n",
    "import pandas as pd\n",
    "\n",
    "url = \"https://api.coingecko.com/api/v3/simple/price\"\n",
    "params = {\"ids\": \"bitcoin,ethereum,cronos,numeraire\", \"vs_currencies\": \"eur,usd,rub,gbp,jpy,chf,aud,cad\"}\n",
    "response = requests.get(url, params=params)\n",
    "data = response.json()\n",
    "print(data)\n",
    "\n",
    "# Преобразуем в DataFrame\n",
    "df = pd.DataFrame(data).T  # .T — транспонирует, чтобы валюты были по колонкам\n",
    "df.index.name = \"crypto\"\n",
    "df['EurUsd'] = df['eur']/df['usd']\n",
    "df['RubUsd'] = df['rub']/df['usd']\n",
    "print(df)"
   ]
  },
  {
   "cell_type": "markdown",
   "id": "e216ad94",
   "metadata": {},
   "source": [
    "## Самостоятельная работа\n",
    "\n",
    "Задание 1. Извлечь с ресурса open-meteo.com данные о температуре воздуха за 01-07 сентября 2025 г. над вашим домом (геоданные можно узнать в любом доступном приложении) и с их помощью посчитать следующие значения в разрезе каждого дня:\n",
    "\n",
    "- среднее между максимальной и минимальной температурой\n",
    "- разность по модулю между предыдущим значением и средней температурой\n",
    "\n",
    "\n",
    "Вывести все эти значения в виде DataFrame."
   ]
  },
  {
   "cell_type": "code",
   "execution_count": 1,
   "id": "8080171e",
   "metadata": {},
   "outputs": [
    {
     "name": "stdout",
     "output_type": "stream",
     "text": [
      "⚠ Нет данных для AAPL\n",
      "⚠ Нет данных для MSFT\n",
      "⚠ Нет данных для GOOGL\n",
      "⚠ Нет данных для AMZN\n"
     ]
    },
    {
     "ename": "ValueError",
     "evalue": "No objects to concatenate",
     "output_type": "error",
     "traceback": [
      "\u001b[0;31m---------------------------------------------------------------------------\u001b[0m",
      "\u001b[0;31mValueError\u001b[0m                                Traceback (most recent call last)",
      "\u001b[0;32m/var/folders/tp/v660jbc912ggyt798fqfz0km0000gn/T/ipykernel_768/94743168.py\u001b[0m in \u001b[0;36m<module>\u001b[0;34m\u001b[0m\n\u001b[1;32m     44\u001b[0m \u001b[0;34m\u001b[0m\u001b[0m\n\u001b[1;32m     45\u001b[0m \u001b[0;31m# объединяем в один большой DataFrame\u001b[0m\u001b[0;34m\u001b[0m\u001b[0;34m\u001b[0m\u001b[0m\n\u001b[0;32m---> 46\u001b[0;31m \u001b[0mdf_big\u001b[0m \u001b[0;34m=\u001b[0m \u001b[0mpd\u001b[0m\u001b[0;34m.\u001b[0m\u001b[0mconcat\u001b[0m\u001b[0;34m(\u001b[0m\u001b[0mall_data\u001b[0m\u001b[0;34m)\u001b[0m\u001b[0;34m\u001b[0m\u001b[0;34m\u001b[0m\u001b[0m\n\u001b[0m\u001b[1;32m     47\u001b[0m \u001b[0mdf_big\u001b[0m \u001b[0;34m=\u001b[0m \u001b[0mdf_big\u001b[0m\u001b[0;34m.\u001b[0m\u001b[0mreset_index\u001b[0m\u001b[0;34m(\u001b[0m\u001b[0;34m)\u001b[0m\u001b[0;34m.\u001b[0m\u001b[0mrename\u001b[0m\u001b[0;34m(\u001b[0m\u001b[0mcolumns\u001b[0m\u001b[0;34m=\u001b[0m\u001b[0;34m{\u001b[0m\u001b[0;34m\"index\"\u001b[0m\u001b[0;34m:\u001b[0m \u001b[0;34m\"date\"\u001b[0m\u001b[0;34m}\u001b[0m\u001b[0;34m)\u001b[0m\u001b[0;34m\u001b[0m\u001b[0;34m\u001b[0m\u001b[0m\n\u001b[1;32m     48\u001b[0m \u001b[0;34m\u001b[0m\u001b[0m\n",
      "\u001b[0;32m/opt/anaconda3/lib/python3.9/site-packages/pandas/util/_decorators.py\u001b[0m in \u001b[0;36mwrapper\u001b[0;34m(*args, **kwargs)\u001b[0m\n\u001b[1;32m    309\u001b[0m                     \u001b[0mstacklevel\u001b[0m\u001b[0;34m=\u001b[0m\u001b[0mstacklevel\u001b[0m\u001b[0;34m,\u001b[0m\u001b[0;34m\u001b[0m\u001b[0;34m\u001b[0m\u001b[0m\n\u001b[1;32m    310\u001b[0m                 )\n\u001b[0;32m--> 311\u001b[0;31m             \u001b[0;32mreturn\u001b[0m \u001b[0mfunc\u001b[0m\u001b[0;34m(\u001b[0m\u001b[0;34m*\u001b[0m\u001b[0margs\u001b[0m\u001b[0;34m,\u001b[0m \u001b[0;34m**\u001b[0m\u001b[0mkwargs\u001b[0m\u001b[0;34m)\u001b[0m\u001b[0;34m\u001b[0m\u001b[0;34m\u001b[0m\u001b[0m\n\u001b[0m\u001b[1;32m    312\u001b[0m \u001b[0;34m\u001b[0m\u001b[0m\n\u001b[1;32m    313\u001b[0m         \u001b[0;32mreturn\u001b[0m \u001b[0mwrapper\u001b[0m\u001b[0;34m\u001b[0m\u001b[0;34m\u001b[0m\u001b[0m\n",
      "\u001b[0;32m/opt/anaconda3/lib/python3.9/site-packages/pandas/core/reshape/concat.py\u001b[0m in \u001b[0;36mconcat\u001b[0;34m(objs, axis, join, ignore_index, keys, levels, names, verify_integrity, sort, copy)\u001b[0m\n\u001b[1;32m    292\u001b[0m     \u001b[0mValueError\u001b[0m\u001b[0;34m:\u001b[0m \u001b[0mIndexes\u001b[0m \u001b[0mhave\u001b[0m \u001b[0moverlapping\u001b[0m \u001b[0mvalues\u001b[0m\u001b[0;34m:\u001b[0m \u001b[0;34m[\u001b[0m\u001b[0;34m'a'\u001b[0m\u001b[0;34m]\u001b[0m\u001b[0;34m\u001b[0m\u001b[0;34m\u001b[0m\u001b[0m\n\u001b[1;32m    293\u001b[0m     \"\"\"\n\u001b[0;32m--> 294\u001b[0;31m     op = _Concatenator(\n\u001b[0m\u001b[1;32m    295\u001b[0m         \u001b[0mobjs\u001b[0m\u001b[0;34m,\u001b[0m\u001b[0;34m\u001b[0m\u001b[0;34m\u001b[0m\u001b[0m\n\u001b[1;32m    296\u001b[0m         \u001b[0maxis\u001b[0m\u001b[0;34m=\u001b[0m\u001b[0maxis\u001b[0m\u001b[0;34m,\u001b[0m\u001b[0;34m\u001b[0m\u001b[0;34m\u001b[0m\u001b[0m\n",
      "\u001b[0;32m/opt/anaconda3/lib/python3.9/site-packages/pandas/core/reshape/concat.py\u001b[0m in \u001b[0;36m__init__\u001b[0;34m(self, objs, axis, join, keys, levels, names, ignore_index, verify_integrity, copy, sort)\u001b[0m\n\u001b[1;32m    349\u001b[0m \u001b[0;34m\u001b[0m\u001b[0m\n\u001b[1;32m    350\u001b[0m         \u001b[0;32mif\u001b[0m \u001b[0mlen\u001b[0m\u001b[0;34m(\u001b[0m\u001b[0mobjs\u001b[0m\u001b[0;34m)\u001b[0m \u001b[0;34m==\u001b[0m \u001b[0;36m0\u001b[0m\u001b[0;34m:\u001b[0m\u001b[0;34m\u001b[0m\u001b[0;34m\u001b[0m\u001b[0m\n\u001b[0;32m--> 351\u001b[0;31m             \u001b[0;32mraise\u001b[0m \u001b[0mValueError\u001b[0m\u001b[0;34m(\u001b[0m\u001b[0;34m\"No objects to concatenate\"\u001b[0m\u001b[0;34m)\u001b[0m\u001b[0;34m\u001b[0m\u001b[0;34m\u001b[0m\u001b[0m\n\u001b[0m\u001b[1;32m    352\u001b[0m \u001b[0;34m\u001b[0m\u001b[0m\n\u001b[1;32m    353\u001b[0m         \u001b[0;32mif\u001b[0m \u001b[0mkeys\u001b[0m \u001b[0;32mis\u001b[0m \u001b[0;32mNone\u001b[0m\u001b[0;34m:\u001b[0m\u001b[0;34m\u001b[0m\u001b[0;34m\u001b[0m\u001b[0m\n",
      "\u001b[0;31mValueError\u001b[0m: No objects to concatenate"
     ]
    }
   ],
   "source": [
    "import requests\n",
    "import pandas as pd\n",
    "import time\n",
    "\n",
    "API_KEY = \"8CL4893T6EW62CTZ\"  # ← сюда вставь ключ Alpha Vantage\n",
    "TICKERS = [\"AAPL\", \"MSFT\", \"GOOGL\", \"AMZN\"]  # список тикеров\n",
    "BASE_URL = \"https://www.alphavantage.co/query\"\n",
    "\n",
    "def fetch_daily_series(symbol, api_key=API_KEY):\n",
    "    \"\"\"Загрузка дневных цен акций\"\"\"\n",
    "    params = {\n",
    "        \"function\": \"TIME_SERIES_DAILY_ADJUSTED\",\n",
    "        \"symbol\": symbol,\n",
    "        \"outputsize\": \"full\",   # full = вся история, compact = последние 100\n",
    "        \"apikey\": api_key\n",
    "    }\n",
    "    response = requests.get(BASE_URL, params=params)\n",
    "    data = response.json().get(\"Time Series (Daily)\", {})\n",
    "    \n",
    "    if not data:\n",
    "        print(f\"⚠ Нет данных для {symbol}\")\n",
    "        return None\n",
    "    \n",
    "    df = pd.DataFrame.from_dict(data, orient=\"index\").astype(float)\n",
    "    df.index = pd.to_datetime(df.index)\n",
    "    df = df.rename(columns={\n",
    "        \"1. open\": \"open\",\n",
    "        \"2. high\": \"high\",\n",
    "        \"3. low\": \"low\",\n",
    "        \"4. close\": \"close\",\n",
    "        \"5. adjusted close\": \"adj_close\",\n",
    "        \"6. volume\": \"volume\"\n",
    "    })\n",
    "    df[\"symbol\"] = symbol\n",
    "    return df\n",
    "\n",
    "# собираем данные для всех тикеров\n",
    "all_data = []\n",
    "for ticker in TICKERS:\n",
    "    df_ticker = fetch_daily_series(ticker)\n",
    "    if df_ticker is not None:\n",
    "        all_data.append(df_ticker)\n",
    "    time.sleep(12)  # ограничение API: 5 запросов/минуту\n",
    "\n",
    "# объединяем в один большой DataFrame\n",
    "df_big = pd.concat(all_data)\n",
    "df_big = df_big.reset_index().rename(columns={\"index\": \"date\"})\n",
    "\n",
    "print(df_big.head())\n",
    "print(df_big.tail())\n",
    "\n",
    "# пример: сводная таблица \"дата × тикер → цена закрытия\"\n",
    "df_pivot = df_big.pivot(index=\"date\", columns=\"symbol\", values=\"adj_close\")\n",
    "print(df_pivot.tail())\n"
   ]
  },
  {
   "cell_type": "code",
   "execution_count": null,
   "id": "e382ace6",
   "metadata": {},
   "outputs": [],
   "source": []
  }
 ],
 "metadata": {
  "kernelspec": {
   "display_name": "Python 3 (ipykernel)",
   "language": "python",
   "name": "python3"
  },
  "language_info": {
   "codemirror_mode": {
    "name": "ipython",
    "version": 3
   },
   "file_extension": ".py",
   "mimetype": "text/x-python",
   "name": "python",
   "nbconvert_exporter": "python",
   "pygments_lexer": "ipython3",
   "version": "3.9.7"
  }
 },
 "nbformat": 4,
 "nbformat_minor": 5
}
