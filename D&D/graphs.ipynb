{
 "cells": [
  {
   "cell_type": "code",
   "execution_count": 1,
   "id": "2b955199",
   "metadata": {},
   "outputs": [
    {
     "data": {
      "text/plain": [
       "<Figure size 432x288 with 0 Axes>"
      ]
     },
     "metadata": {},
     "output_type": "display_data"
    }
   ],
   "source": [
    "import numpy as np\n",
    "import matplotlib.pyplot as plt\n",
    "from scipy.stats import norm, uniform, bernoulli, binom, poisson, expon\n",
    "\n",
    "# ==== Нормальное распределение ====\n",
    "x = np.linspace(-4, 4, 1000)\n",
    "plt.plot(x, norm.pdf(x), label='PDF')\n",
    "plt.title('Normal Distribution (PDF)')\n",
    "plt.grid()\n",
    "plt.savefig('normal_pdf.png')\n",
    "plt.clf()\n",
    "\n",
    "plt.plot(x, norm.cdf(x), label='CDF')\n",
    "plt.title('Normal Distribution (CDF)')\n",
    "plt.grid()\n",
    "plt.savefig('normal_cdf.png')\n",
    "plt.clf()\n",
    "\n",
    "# ==== Равномерное распределение ====\n",
    "a, b = 0, 1\n",
    "x = np.linspace(-0.5, 1.5, 500)\n",
    "plt.plot(x, uniform.pdf(x, a, b-a))\n",
    "plt.title('Uniform Distribution (PDF)')\n",
    "plt.grid()\n",
    "plt.savefig('uniform_pdf.png')\n",
    "plt.clf()\n",
    "\n",
    "plt.plot(x, uniform.cdf(x, a, b-a))\n",
    "plt.title('Uniform Distribution (CDF)')\n",
    "plt.grid()\n",
    "plt.savefig('uniform_cdf.png')\n",
    "plt.clf()\n",
    "\n",
    "# ==== Бернулли ====\n",
    "x = [0, 1]\n",
    "pmf = bernoulli.pmf(x, p=0.3)\n",
    "plt.bar(x, pmf)\n",
    "plt.title('Bernoulli Distribution (PMF)')\n",
    "plt.grid()\n",
    "plt.savefig('bernoulli_pmf.png')\n",
    "plt.clf()\n",
    "\n",
    "# ==== Биномиальное распределение ====\n",
    "n, p = 10, 0.5\n",
    "x = np.arange(0, n+1)\n",
    "plt.bar(x, binom.pmf(x, n, p))\n",
    "plt.title('Binomial Distribution (PMF)')\n",
    "plt.grid()\n",
    "plt.savefig('binomial_pmf.png')\n",
    "plt.clf()\n",
    "\n",
    "# ==== Пуассон ====\n",
    "lam = 4\n",
    "x = np.arange(0, 15)\n",
    "plt.bar(x, poisson.pmf(x, lam))\n",
    "plt.title('Poisson Distribution (PMF)')\n",
    "plt.grid()\n",
    "plt.savefig('poisson_pmf.png')\n",
    "plt.clf()\n",
    "\n",
    "# ==== Экспоненциальное ====\n",
    "x = np.linspace(0, 5, 500)\n",
    "plt.plot(x, expon.pdf(x))\n",
    "plt.title('Exponential Distribution (PDF)')\n",
    "plt.grid()\n",
    "plt.savefig('exponential_pdf.png')\n",
    "plt.clf()\n",
    "\n",
    "plt.plot(x, expon.cdf(x))\n",
    "plt.title('Exponential Distribution (CDF)')\n",
    "plt.grid()\n",
    "plt.savefig('exponential_cdf.png')\n",
    "plt.clf()\n"
   ]
  },
  {
   "cell_type": "code",
   "execution_count": null,
   "id": "ac6dafdc",
   "metadata": {},
   "outputs": [],
   "source": []
  }
 ],
 "metadata": {
  "kernelspec": {
   "display_name": "Python 3 (ipykernel)",
   "language": "python",
   "name": "python3"
  },
  "language_info": {
   "codemirror_mode": {
    "name": "ipython",
    "version": 3
   },
   "file_extension": ".py",
   "mimetype": "text/x-python",
   "name": "python",
   "nbconvert_exporter": "python",
   "pygments_lexer": "ipython3",
   "version": "3.9.7"
  }
 },
 "nbformat": 4,
 "nbformat_minor": 5
}
